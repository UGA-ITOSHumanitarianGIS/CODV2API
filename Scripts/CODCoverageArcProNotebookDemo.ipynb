{
 "cells": [
  {
   "cell_type": "code",
   "execution_count": 143,
   "metadata": {},
   "outputs": [],
   "source": [
    "import os\n",
    "import requests\n",
    "import json\n",
    "import pandas as pd"
   ]
  },
  {
   "cell_type": "code",
   "execution_count": 144,
   "metadata": {},
   "outputs": [
    {
     "name": "stdout",
     "output_type": "stream",
     "text": [
      "Topographic\n"
     ]
    }
   ],
   "source": [
    "aprx = arcpy.mp.ArcGISProject(\"current\")\n",
    "map = aprx.listMaps()[0]\n",
    "layers = map.listLayers()\n",
    "print (layers[0].name)"
   ]
  },
  {
   "cell_type": "code",
   "execution_count": 145,
   "metadata": {},
   "outputs": [],
   "source": [
    "wrldLayerPath = r\"C:\\WorkSpace\\adm1_polygons.shp\"\n",
    "geoLayer = map.addDataFromPath(wrldLayerPath)\n"
   ]
  },
  {
   "cell_type": "code",
   "execution_count": 146,
   "metadata": {},
   "outputs": [
    {
     "name": "stdout",
     "output_type": "stream",
     "text": [
      "{'theme_name': 'Administrative Boundary', 'comment': '', 'countries': ['abw', 'afg', 'ago', 'aia', 'alb', 'ant', 'are', 'arg', 'arm', 'atg', 'aze', 'bdi', 'bel', 'ben', 'bfa', 'bgd', 'bgr', 'bhr', 'bhs', 'blm', 'blr', 'blz', 'bmu', 'bol', 'bra', 'brb', 'btn', 'bwa', 'caf', 'chl', 'chn', 'cmr', 'cod', 'cog', 'col', 'com', 'cpv', 'cri', 'cub', 'cuw', 'cym', 'dji', 'dma', 'dom', 'dza', 'ecu', 'egy', 'eri', 'esh', 'eth', 'fji', 'fsm', 'gab', 'geo', 'gha', 'gin', 'glp', 'gmb', 'gnb', 'gnq', 'grc', 'grd', 'gtm', 'guf', 'guy', 'hnd', 'hti', 'hun', 'idn', 'irn', 'irq', 'jam', 'jpn', 'kaz', 'kdn', 'ken', 'kgz', 'khm', 'kir', 'kna', 'kwt', 'lbn', 'lbr', 'lby', 'lca', 'lka', 'lso', 'maf', 'mar', 'mda', 'mdg', 'mdv', 'mex', 'mhl', 'mkd', 'mli', 'mng', 'moz', 'mrt', 'msr', 'mtq', 'mus', 'mwi', 'mys', 'nam', 'ner', 'nga', 'nic', 'npl', 'omn', 'pak', 'pan', 'per', 'phl', 'png', 'pol', 'pri', 'pry', 'pse', 'qat', 'rou', 'rus', 'rwa', 'sau', 'sdn', 'sen', 'slb', 'sle', 'slv', 'som', 'ssd', 'stp', 'sur', 'svk', 'swz', 'sxm', 'syc', 'syr', 'tca', 'tcd', 'tgo', 'tha', 'tls', 'ton', 'tto', 'tun', 'tur', 'tza', 'uga', 'ukr', 'ury', 'uzb', 'vct', 'ven', 'vgb', 'vir', 'vnm', 'vut', 'yem', 'zaf', 'zmb', 'zwe'], 'Total': 162}\n",
      "{'theme_name': 'Population Statistics', 'comment': '', 'countries': ['abw', 'afg', 'ago', 'aia', 'alb', 'arg', 'arm', 'atg', 'aze', 'bdi', 'ben', 'bfa', 'bgd', 'bhs', 'blm', 'blz', 'bmu', 'bol', 'bra', 'brb', 'btn', 'bwa', 'caf', 'chl', 'civ', 'cod', 'col', 'com', 'cpv', 'cri', 'cub', 'cuw', 'cym', 'dji', 'dma', 'dom', 'ecu', 'egy', 'eri', 'fji', 'fsm', 'geo', 'gha', 'gin', 'glp', 'gmb', 'grd', 'gtm', 'guf', 'guy', 'hnd', 'hun', 'idn', 'irn', 'jam', 'kaz', 'ken', 'kgz', 'khm', 'kir', 'kna', 'lao', 'lbr', 'lca', 'lka', 'lso', 'maf', 'mdg', 'mex', 'mhl', 'mli', 'mmr', 'mng', 'moz', 'mrt', 'msr', 'mtq', 'mus', 'mwi', 'mys', 'nam', 'ner', 'nga', 'nic', 'npl', 'pak', 'pan', 'per', 'phl', 'png', 'pol', 'pri', 'prk', 'pry', 'pse', 'rou', 'rwa', 'sen', 'slb', 'sle', 'slv', 'som', 'ssd', 'stp', 'sur', 'svk', 'swz', 'sxm', 'syc', 'tca', 'tcd', 'tgo', 'tha', 'tjk', 'tls', 'ton', 'tto', 'tun', 'tur', 'tza', 'uga', 'ukr', 'ury', 'uzb', 'vct', 'ven', 'vgb', 'vir', 'vnm', 'vut', 'zaf', 'zmb', 'zwe'], 'Total': 133}\n"
     ]
    }
   ],
   "source": [
    "#access the COD Services API list of COD locations and themes\n",
    "COD_External_URL = 'https://beta.itos.uga.edu/CODV2API/api/v1/themes'\n",
    "response = requests.get(COD_External_URL)\n",
    "dataD = json.loads(json.dumps(response.json()))\n",
    "#review contents and check to see where there may be relavency with the world layer\n",
    "for i in range (0, len(dataD)):\n",
    "    print(dataD[i])"
   ]
  },
  {
   "cell_type": "code",
   "execution_count": 147,
   "metadata": {},
   "outputs": [
    {
     "data": {
      "text/html": [
       "<div>\n",
       "<style scoped>\n",
       "    .dataframe tbody tr th:only-of-type {\n",
       "        vertical-align: middle;\n",
       "    }\n",
       "\n",
       "    .dataframe tbody tr th {\n",
       "        vertical-align: top;\n",
       "    }\n",
       "\n",
       "    .dataframe thead th {\n",
       "        text-align: right;\n",
       "    }\n",
       "</style>\n",
       "<table border=\"1\" class=\"dataframe\">\n",
       "  <thead>\n",
       "    <tr style=\"text-align: right;\">\n",
       "      <th></th>\n",
       "      <th>0</th>\n",
       "      <th>theme_name</th>\n",
       "    </tr>\n",
       "  </thead>\n",
       "  <tbody>\n",
       "    <tr>\n",
       "      <th>0</th>\n",
       "      <td>abw</td>\n",
       "      <td>Administrative Boundary</td>\n",
       "    </tr>\n",
       "    <tr>\n",
       "      <th>1</th>\n",
       "      <td>afg</td>\n",
       "      <td>Administrative Boundary</td>\n",
       "    </tr>\n",
       "    <tr>\n",
       "      <th>2</th>\n",
       "      <td>ago</td>\n",
       "      <td>Administrative Boundary</td>\n",
       "    </tr>\n",
       "    <tr>\n",
       "      <th>3</th>\n",
       "      <td>aia</td>\n",
       "      <td>Administrative Boundary</td>\n",
       "    </tr>\n",
       "    <tr>\n",
       "      <th>4</th>\n",
       "      <td>alb</td>\n",
       "      <td>Administrative Boundary</td>\n",
       "    </tr>\n",
       "    <tr>\n",
       "      <th>...</th>\n",
       "      <td>...</td>\n",
       "      <td>...</td>\n",
       "    </tr>\n",
       "    <tr>\n",
       "      <th>290</th>\n",
       "      <td>vnm</td>\n",
       "      <td>Population Statistics</td>\n",
       "    </tr>\n",
       "    <tr>\n",
       "      <th>291</th>\n",
       "      <td>vut</td>\n",
       "      <td>Population Statistics</td>\n",
       "    </tr>\n",
       "    <tr>\n",
       "      <th>292</th>\n",
       "      <td>zaf</td>\n",
       "      <td>Population Statistics</td>\n",
       "    </tr>\n",
       "    <tr>\n",
       "      <th>293</th>\n",
       "      <td>zmb</td>\n",
       "      <td>Population Statistics</td>\n",
       "    </tr>\n",
       "    <tr>\n",
       "      <th>294</th>\n",
       "      <td>zwe</td>\n",
       "      <td>Population Statistics</td>\n",
       "    </tr>\n",
       "  </tbody>\n",
       "</table>\n",
       "<p>295 rows × 2 columns</p>\n",
       "</div>"
      ],
      "text/plain": [
       "       0               theme_name\n",
       "0    abw  Administrative Boundary\n",
       "1    afg  Administrative Boundary\n",
       "2    ago  Administrative Boundary\n",
       "3    aia  Administrative Boundary\n",
       "4    alb  Administrative Boundary\n",
       "..   ...                      ...\n",
       "290  vnm    Population Statistics\n",
       "291  vut    Population Statistics\n",
       "292  zaf    Population Statistics\n",
       "293  zmb    Population Statistics\n",
       "294  zwe    Population Statistics\n",
       "\n",
       "[295 rows x 2 columns]"
      ]
     },
     "execution_count": 147,
     "metadata": {},
     "output_type": "execute_result"
    }
   ],
   "source": [
    "#arrange output of the COD Services API to show the countries as rows\n",
    "\n",
    "df= pd.json_normalize(dataD, record_path=['countries'], meta=['theme_name'])\n",
    "update_array = df.to_records()\n",
    "recs = update_array\n",
    "dts = {'names': ('id', 'iso3', 'country'), 'formats':(numpy.uint8, 'U13', '<S256')}\n",
    "array = numpy.rec.fromrecords(recs, dtype=dts)\n",
    "df"
   ]
  },
  {
   "cell_type": "code",
   "execution_count": 148,
   "metadata": {},
   "outputs": [
    {
     "data": {
      "text/html": [
       "<div>\n",
       "<style scoped>\n",
       "    .dataframe tbody tr th:only-of-type {\n",
       "        vertical-align: middle;\n",
       "    }\n",
       "\n",
       "    .dataframe tbody tr th {\n",
       "        vertical-align: top;\n",
       "    }\n",
       "\n",
       "    .dataframe thead th {\n",
       "        text-align: right;\n",
       "    }\n",
       "</style>\n",
       "<table border=\"1\" class=\"dataframe\">\n",
       "  <thead>\n",
       "    <tr style=\"text-align: right;\">\n",
       "      <th></th>\n",
       "      <th>id</th>\n",
       "      <th>iso3</th>\n",
       "      <th>country</th>\n",
       "    </tr>\n",
       "  </thead>\n",
       "  <tbody>\n",
       "    <tr>\n",
       "      <th>0</th>\n",
       "      <td>0</td>\n",
       "      <td>ABW</td>\n",
       "      <td>b'Administrative Boundary'</td>\n",
       "    </tr>\n",
       "    <tr>\n",
       "      <th>1</th>\n",
       "      <td>1</td>\n",
       "      <td>AFG</td>\n",
       "      <td>b'Administrative Boundary'</td>\n",
       "    </tr>\n",
       "    <tr>\n",
       "      <th>2</th>\n",
       "      <td>2</td>\n",
       "      <td>AGO</td>\n",
       "      <td>b'Administrative Boundary'</td>\n",
       "    </tr>\n",
       "    <tr>\n",
       "      <th>3</th>\n",
       "      <td>3</td>\n",
       "      <td>AIA</td>\n",
       "      <td>b'Administrative Boundary'</td>\n",
       "    </tr>\n",
       "    <tr>\n",
       "      <th>4</th>\n",
       "      <td>4</td>\n",
       "      <td>ALB</td>\n",
       "      <td>b'Administrative Boundary'</td>\n",
       "    </tr>\n",
       "    <tr>\n",
       "      <th>...</th>\n",
       "      <td>...</td>\n",
       "      <td>...</td>\n",
       "      <td>...</td>\n",
       "    </tr>\n",
       "    <tr>\n",
       "      <th>290</th>\n",
       "      <td>34</td>\n",
       "      <td>VNM</td>\n",
       "      <td>b'Population Statistics'</td>\n",
       "    </tr>\n",
       "    <tr>\n",
       "      <th>291</th>\n",
       "      <td>35</td>\n",
       "      <td>VUT</td>\n",
       "      <td>b'Population Statistics'</td>\n",
       "    </tr>\n",
       "    <tr>\n",
       "      <th>292</th>\n",
       "      <td>36</td>\n",
       "      <td>ZAF</td>\n",
       "      <td>b'Population Statistics'</td>\n",
       "    </tr>\n",
       "    <tr>\n",
       "      <th>293</th>\n",
       "      <td>37</td>\n",
       "      <td>ZMB</td>\n",
       "      <td>b'Population Statistics'</td>\n",
       "    </tr>\n",
       "    <tr>\n",
       "      <th>294</th>\n",
       "      <td>38</td>\n",
       "      <td>ZWE</td>\n",
       "      <td>b'Population Statistics'</td>\n",
       "    </tr>\n",
       "  </tbody>\n",
       "</table>\n",
       "<p>295 rows × 3 columns</p>\n",
       "</div>"
      ],
      "text/plain": [
       "     id iso3                     country\n",
       "0     0  ABW  b'Administrative Boundary'\n",
       "1     1  AFG  b'Administrative Boundary'\n",
       "2     2  AGO  b'Administrative Boundary'\n",
       "3     3  AIA  b'Administrative Boundary'\n",
       "4     4  ALB  b'Administrative Boundary'\n",
       "..   ..  ...                         ...\n",
       "290  34  VNM    b'Population Statistics'\n",
       "291  35  VUT    b'Population Statistics'\n",
       "292  36  ZAF    b'Population Statistics'\n",
       "293  37  ZMB    b'Population Statistics'\n",
       "294  38  ZWE    b'Population Statistics'\n",
       "\n",
       "[295 rows x 3 columns]"
      ]
     },
     "execution_count": 148,
     "metadata": {},
     "output_type": "execute_result"
    }
   ],
   "source": [
    "array['iso3'] = numpy.char.upper(array['iso3'])\n",
    "df = pd.DataFrame(array)\n",
    "df"
   ]
  },
  {
   "cell_type": "code",
   "execution_count": 189,
   "metadata": {},
   "outputs": [
    {
     "name": "stdout",
     "output_type": "stream",
     "text": [
      "adm1_polygons\n"
     ]
    }
   ],
   "source": [
    "#Array to standalone table\n",
    "output_table = \"CODCountries14\"\n",
    "arcpy.da.NumPyArrayToTable(array, os.path.join(arcpy.env.workspace, output_table))\n",
    "#Load the features with geometry and corresponding ISO 3 country values\n",
    "inFeatures = geoLayer\n",
    "inField = \"adm0_src\"\n",
    "joinTable = os.path.join(arcpy.env.workspace, output_table)\n",
    "joinField = \"iso3\" \n",
    "outFeature = \"CODCoverageDemo.gdb/CountryCODS\"\n",
    "jt = arcpy.AddJoin_management(inFeatures, inField, joinTable, joinField)\n",
    "print (jt)\n",
    "arcpy.CopyFeatures_management(jt, outFeature)\n",
    "aprx = arcpy.mp.ArcGISProject(\"current\")\n",
    "map = aprx.listMaps()[0]\n",
    "layers = map.listLayers()\n"
   ]
  },
  {
   "cell_type": "code",
   "execution_count": 188,
   "metadata": {},
   "outputs": [
    {
     "name": "stdout",
     "output_type": "stream",
     "text": [
      "['adm1_polygons_adm1_id']\n"
     ]
    }
   ],
   "source": [
    "#Update layer to show countries with CODs \n",
    "newLayer = layers[0]\n",
    "sym = newLayer.symbology\n",
    "sym.updateRenderer(\"UniqueValueRenderer\")\n",
    "sym.valueField = \"iso3\"\n",
    "r = sym.renderer\n",
    "r.fields = \"['iso3']\"#['adm1_polygons.CODCountries10.iso3']\n",
    "sym.renderer = r\n",
    "sym.renderer.fields = \"['iso3']\" #['adm1_polygons.CODCountries10.iso3']\n",
    "print (r.fields)\n",
    "#sym.addAllValues()\n",
    "#for grp in sym.renderer.groups:\n",
    "#    for item in grp.items:\n",
    "#        value = item.values[0][0]\n",
    "#        if value == ' ':\n",
    "#            item.symbol.color = {'RGB': [255, 12, 12, 100]}\n",
    "newLayer.symbology = sym\n"
   ]
  },
  {
   "cell_type": "code",
   "execution_count": 178,
   "metadata": {},
   "outputs": [
    {
     "name": "stdout",
     "output_type": "stream",
     "text": [
      "['adm1_polygons.adm1_id']\n",
      "['adm1_polygons.adm1_id']\n"
     ]
    }
   ],
   "source": [
    "print (sym.renderer.fields)\n",
    "sym.renderer.fields[0] = \"['adm1_polygons.CODCountries10.iso3']\"\n",
    "print (sym.renderer.fields)"
   ]
  }
 ],
 "metadata": {
  "kernelspec": {
   "display_name": "ArcGISPro",
   "language": "Python",
   "name": "python3"
  },
  "language_info": {
   "file_extension": ".py",
   "name": "python",
   "version": "3"
  }
 },
 "nbformat": 4,
 "nbformat_minor": 2
}
